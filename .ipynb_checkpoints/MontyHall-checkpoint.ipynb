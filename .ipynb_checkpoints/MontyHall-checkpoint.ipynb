{
 "cells": [
  {
   "cell_type": "code",
   "execution_count": 1,
   "metadata": {
    "collapsed": false
   },
   "outputs": [
    {
     "name": "stdout",
     "output_type": "stream",
     "text": [
      "{'stayWin': 1651, 'lost': 5030, 'switchWin': 3319}\n"
     ]
    }
   ],
   "source": [
    "#Edwin Peter\n",
    "#epeter@itam.mx\n",
    "\n",
    "import random as rand\n",
    "\n",
    "def montyhall():\n",
    "    #Global Choices\n",
    "    choices = [1,2,3]\n",
    "\n",
    "    #Determine winning door\n",
    "    winningdoor = rand.randint(1,3)\n",
    "    #print \"Winning Door is Door {}\".format(winningdoor)\n",
    "\n",
    "    #Determine what the person chooses\n",
    "    person_choice = rand.choice(choices)\n",
    "    #print \"Player chooses Door {}\".format(person_choice)\n",
    "\n",
    "    #Determine the doors left-over after the person chooses\n",
    "    doors_left = choices.remove(person_choice)\n",
    "    #print \"Doors that are left {}\".format(choices)\n",
    "\n",
    "    #Determine which door the judge opens\n",
    "    door_to_open = rand.choice(choices)\n",
    "\n",
    "    #If person chose winning door already\n",
    "    if person_choice == winningdoor:\n",
    "        door_to_open = rand.choice(choices)\n",
    "        choices.append(winningdoor)\n",
    "        choices.remove(door_to_open)\n",
    "    else:\n",
    "        choices.remove(winningdoor)\n",
    "        door_to_open = choices[0]\n",
    "        choices.remove(door_to_open)\n",
    "        choices.append(person_choice)\n",
    "        choices.append(winningdoor)\n",
    "    #print \"Door that is opened {}\".format(door_to_open)\n",
    "\n",
    "    #print \"Door that are left {}\".format(choices)\n",
    "\n",
    "    decide_stay_or_switch = rand.choice(choices)\n",
    "    if decide_stay_or_switch == person_choice:\n",
    "        #print \"Player choose to STAY\"\n",
    "        #print \"Player picked {}, winning door is {}\".format(decide_stay_or_switch, winningdoor)\n",
    "        if decide_stay_or_switch == winningdoor:\n",
    "            return \"stayWin\"\n",
    "    else:\n",
    "        #print \"Player choose to SWITCH\"\n",
    "        #print \"Player picked {}, winning door is {}\".format(decide_stay_or_switch, winningdoor)\n",
    "        if decide_stay_or_switch == winningdoor:\n",
    "            return \"switchWin\"\n",
    "    return \"lost\"\n",
    "\n",
    "winnings = {}\n",
    "for i in range(0,10000):\n",
    "    won = montyhall()\n",
    "    if winnings.has_key(won):\n",
    "        winnings[won] +=1\n",
    "    else:\n",
    "        winnings[won] = 1\n",
    "print winnings"
   ]
  },
  {
   "cell_type": "code",
   "execution_count": null,
   "metadata": {
    "collapsed": true
   },
   "outputs": [],
   "source": []
  }
 ],
 "metadata": {
  "anaconda-cloud": {},
  "kernelspec": {
   "display_name": "Python [conda root]",
   "language": "python",
   "name": "conda-root-py"
  },
  "language_info": {
   "codemirror_mode": {
    "name": "ipython",
    "version": 2
   },
   "file_extension": ".py",
   "mimetype": "text/x-python",
   "name": "python",
   "nbconvert_exporter": "python",
   "pygments_lexer": "ipython2",
   "version": "2.7.8"
  }
 },
 "nbformat": 4,
 "nbformat_minor": 1
}
